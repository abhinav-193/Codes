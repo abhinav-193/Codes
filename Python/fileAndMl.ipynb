{
 "cells": [
  {
   "cell_type": "code",
   "execution_count": 10,
   "id": "04562c55",
   "metadata": {},
   "outputs": [
    {
     "data": {
      "text/plain": [
       "24"
      ]
     },
     "execution_count": 10,
     "metadata": {},
     "output_type": "execute_result"
    }
   ],
   "source": [
    "abc=open(\"hii.txt\",\"w\")\n",
    "abc.write(\"Online Gramm Grammarly Has a Tool For Just About Every Kind Of Writing You Do.\\n\")\n",
    "abc.write(\"Try It Out For Yourself! Fix Punctuation Errors.\\n\") \n",
    "abc.write(\"Improve Word Choice. Easily Improve Any Text..\\n\") \n",
    "abc.write(\"  AI Writing Assistant.\\n\") "
   ]
  },
  {
   "cell_type": "code",
   "execution_count": 13,
   "id": "77f9bb54",
   "metadata": {},
   "outputs": [
    {
     "data": {
      "text/plain": [
       "'Online Gramm Grammarly Has a Tool For Just About Every Kind Of Writing You Do.\\nTry It Out For Yourself! Fix Punctuation Errors.\\nImprove Word Choice. Easily Improve Any Text..\\n  AI Writing Assistant.\\n'"
      ]
     },
     "execution_count": 13,
     "metadata": {},
     "output_type": "execute_result"
    }
   ],
   "source": [
    "abc = open(\"hii.txt\",\"r\")\n",
    "abc.read()"
   ]
  },
  {
   "cell_type": "code",
   "execution_count": 17,
   "id": "4f5a6c27",
   "metadata": {},
   "outputs": [
    {
     "name": "stdout",
     "output_type": "stream",
     "text": [
      "All the best.. \n"
     ]
    }
   ],
   "source": [
    "f = open(\"pythonText.txt\", \"w\")\n",
    "f.write(\"All the best.. \")\n",
    "f.close()\n",
    "\n",
    "#open and read the file after the appending:\n",
    "f = open(\"pythonText.txt\", \"r\")\n",
    "print(f.read())\n"
   ]
  },
  {
   "cell_type": "code",
   "execution_count": 29,
   "id": "04a09779",
   "metadata": {},
   "outputs": [
    {
     "name": "stdout",
     "output_type": "stream",
     "text": [
      "100\n",
      "1 D array\n",
      "\n",
      "[ 2  4  6  8 10]\n",
      "[2 4 6]\n",
      "\n",
      "2 D Array\n",
      "\n",
      "**************\n",
      "[[ 3]\n",
      " [ 6]\n",
      " [ 9]\n",
      " [12]\n",
      " [15]]\n",
      "[9]\n",
      "\n",
      "3 D Array\n",
      "\n",
      "**************\n",
      "[[[ 4]\n",
      "  [ 8]\n",
      "  [12]\n",
      "  [16]\n",
      "  [20]]]\n",
      "[12]\n"
     ]
    }
   ],
   "source": [
    "import numpy as np\n",
    "\n",
    "scalararr = np.array(100)\n",
    "print(scalararr)\n",
    "\n",
    "arr = np.array([2,4,6,8,10])\n",
    "print('1 D array' + \"\\n\")\n",
    "print(arr)\n",
    "print(arr[:3])\n",
    "\n",
    "# two dimensional array\n",
    "twoDarr = np.array([[3],[6],[9],[12],[15]])\n",
    "\n",
    "threeDarr = np.array([[[4],[8],[12],[16],[20]]])\n",
    "\n",
    "print(\"\\n\" + \"2 D Array\" +\"\\n\")\n",
    "print(\"**************\")\n",
    "print(twoDarr)\n",
    "print(twoDarr[2])\n",
    "\n",
    "print(\"\\n\" + \"3 D Array\" +\"\\n\")\n",
    "print(\"**************\")\n",
    "print(threeDarr)\n",
    "print(threeDarr[0,2])\n"
   ]
  },
  {
   "cell_type": "code",
   "execution_count": 26,
   "id": "04490788",
   "metadata": {},
   "outputs": [
    {
     "name": "stdout",
     "output_type": "stream",
     "text": [
      "8\n"
     ]
    }
   ],
   "source": [
    "tarr = np.array([[[1,2,3,4,5], [6,7,8,9,10]]])\n",
    "print(tarr[0,1,2])"
   ]
  },
  {
   "cell_type": "code",
   "execution_count": 35,
   "id": "36087c50",
   "metadata": {},
   "outputs": [
    {
     "name": "stdout",
     "output_type": "stream",
     "text": [
      "1    a\n",
      "2    b\n",
      "3    c\n",
      "4    d\n",
      "5    e\n",
      "6    f\n",
      "dtype: object\n"
     ]
    }
   ],
   "source": [
    "import pandas as pd\n",
    "a= ['a','b','c','d','e','f']\n",
    "myvar = pd.Series(a,index=[1,2,3,4,5,6])\n",
    "print(myvar)"
   ]
  },
  {
   "cell_type": "code",
   "execution_count": 12,
   "id": "1bf68b9a",
   "metadata": {},
   "outputs": [
    {
     "name": "stdout",
     "output_type": "stream",
     "text": [
      "           Instagram  Telegram  Whatsapp\n",
      "Monday            10        78         6\n",
      "Tuesday           15        34         7\n",
      "Wednesday          1         8         4\n",
      "Thursday          24         2         3\n",
      "Friday            25         3         2\n",
      "Saturday          12         6         5\n",
      "Sunday             4         1         8\n"
     ]
    }
   ],
   "source": [
    "import pandas as pd\n",
    "\n",
    "data = {\n",
    "  \"Instagram\": [10,15,1,24,25,12,4],\n",
    "  \"Telegram\": [78,34,8,2,3,6,1],\n",
    "  \"Whatsapp\":[6,7,4,3,2,5,8]\n",
    "}\n",
    "#load data into a DataFrame object:\n",
    "df = pd.DataFrame(data)\n",
    "#print(df)\n",
    "df = pd.DataFrame(data,index=[\"Monday\",\"Tuesday\",\"Wednesday\",\"Thursday\",\"Friday\",\"Saturday\",\"Sunday\"])\n",
    "print(df)"
   ]
  },
  {
   "cell_type": "code",
   "execution_count": null,
   "id": "88e7efde",
   "metadata": {},
   "outputs": [],
   "source": []
  },
  {
   "cell_type": "code",
   "execution_count": 22,
   "id": "856bd64e",
   "metadata": {},
   "outputs": [
    {
     "data": {
      "text/plain": [
       "<BarContainer object of 2 artists>"
      ]
     },
     "execution_count": 22,
     "metadata": {},
     "output_type": "execute_result"
    },
    {
     "data": {
      "image/png": "[encoded data removed]",
      "text/plain": [
       "<Figure size 432x288 with 1 Axes>"
      ]
     },
     "metadata": {
      "needs_background": "light"
     },
     "output_type": "display_data"
    }
   ],
   "source": [
    "import matplotlib.pyplot as plt\n",
    "import numpy as np\n",
    "x=np.array([0,20])\n",
    "y=np.array([0,60])\n",
    "#y=np.array([0,8,6,9])\n",
    "plt.plot(x)\n",
    "plt.plot(y)\n",
    "plt.bar(x,y)"
   ]
  },
  {
   "cell_type": "code",
   "execution_count": 23,
   "id": "14a0ea1d",
   "metadata": {},
   "outputs": [
    {
     "data": {
      "image/png": "[encoded data removed]",
      "text/plain": [
       "<Figure size 432x288 with 1 Axes>"
      ]
     },
     "metadata": {
      "needs_background": "light"
     },
     "output_type": "display_data"
    }
   ],
   "source": [
    "#histo\n",
    "\n",
    "import matplotlib.pyplot as plt\n",
    "import numpy as np\n",
    "\n",
    "x = np.random.normal(170, 10, 250)\n",
    "\n",
    "plt.hist(x)\n",
    "plt.show()\n"
   ]
  },
  {
   "cell_type": "code",
   "execution_count": 31,
   "id": "bfb1e0a8",
   "metadata": {},
   "outputs": [
    {
     "name": "stdout",
     "output_type": "stream",
     "text": [
      "Enter the total numbers you want to print 100\n",
      "1 2 3 4 5 6 7 8 9 10 11 12 13 14 15 16 17 18 19 20 21 22 23 24 25 26 27 28 29 30 31 32 33 34 35 36 37 38 39 40 41 42 43 44 45 46 47 48 49 50 51 52 53 54 55 56 57 58 59 60 61 62 63 64 65 66 67 68 69 70 71 72 73 74 75 76 77 78 79 80 81 82 83 84 85 86 87 88 89 90 91 92 93 94 95 96 97 98 99 100 "
     ]
    }
   ],
   "source": [
    "n = int(input(\"Enter the total numbers you want to print \"))\n",
    "for i in range(1,n+1):\n",
    "    print(i,end=' ')"
   ]
  },
  {
   "cell_type": "code",
   "execution_count": 32,
   "id": "5e1c167d",
   "metadata": {},
   "outputs": [
    {
     "name": "stdout",
     "output_type": "stream",
     "text": [
      "Enter the total numbers you want to print 10\n",
      "55\n"
     ]
    }
   ],
   "source": [
    "n = int(input(\"Enter the total numbers you want to print \"))\n",
    "sum=0\n",
    "for i in range(1,n+1):\n",
    "    sum = sum + i\n",
    "print(sum)"
   ]
  },
  {
   "cell_type": "code",
   "execution_count": null,
   "id": "16ea73f9",
   "metadata": {},
   "outputs": [],
   "source": []
  },
  {
   "cell_type": "code",
   "execution_count": null,
   "id": "1b589a04",
   "metadata": {},
   "outputs": [],
   "source": []
  },
  {
   "cell_type": "code",
   "execution_count": null,
   "id": "75078dee",
   "metadata": {},
   "outputs": [],
   "source": []
  }
 ],
 "metadata": {
  "kernelspec": {
   "display_name": "Python 3.10.4 64-bit",
   "language": "python",
   "name": "python3"
  },
  "language_info": {
   "codemirror_mode": {
    "name": "ipython",
    "version": 3
   },
   "file_extension": ".py",
   "mimetype": "text/x-python",
   "name": "python",
   "nbconvert_exporter": "python",
   "pygments_lexer": "ipython3",
   "version": "3.10.4"
  },
  "vscode": {
   "interpreter": {
    "hash": "49af4c9b3934c3688850dff7ebea2aca63e7be9ea608268045a888ecf2e252a0"
   }
  }
 },
 "nbformat": 4,
 "nbformat_minor": 5
}
